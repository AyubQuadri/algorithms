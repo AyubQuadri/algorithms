{
 "metadata": {
  "name": "",
  "signature": "sha256:12fb36d067f86036273667e51056eaa4b5e4fe9ee6bb961cc37ddc28069ec076"
 },
 "nbformat": 3,
 "nbformat_minor": 0,
 "worksheets": [
  {
   "cells": [
    {
     "cell_type": "code",
     "collapsed": false,
     "input": [
      "%matplotlib inline\n",
      "import pandas as pd\n",
      "import seaborn as sns"
     ],
     "language": "python",
     "metadata": {},
     "outputs": []
    },
    {
     "cell_type": "code",
     "collapsed": false,
     "input": [
      "df = pd.read_csv('data.csv')"
     ],
     "language": "python",
     "metadata": {},
     "outputs": []
    },
    {
     "cell_type": "code",
     "collapsed": false,
     "input": [
      "list(df.columns.values)"
     ],
     "language": "python",
     "metadata": {},
     "outputs": []
    },
    {
     "cell_type": "code",
     "collapsed": false,
     "input": [
      "df.loc[df.AnzahlSexualpartnerAllgemein > 10000, 'AnzahlSexualpartnerAllgemein'] = float('inf')\n",
      "df.loc[df.AnzahlSexualpartnerGreifswald > 10000, 'AnzahlSexualpartnerGreifswald'] = float('inf')\n",
      "df.loc[df.AnzahlStechmuecken > 10000, 'AnzahlStechmuecken'] = float('inf')\n"
     ],
     "language": "python",
     "metadata": {},
     "outputs": []
    },
    {
     "cell_type": "code",
     "collapsed": false,
     "input": [
      "grouped = df.groupby('Geschlecht')\n",
      "grouped.EigeneAttraktivitaet.hist(alpha=0.4, position=0, bins=range(1, 11))"
     ],
     "language": "python",
     "metadata": {},
     "outputs": []
    },
    {
     "cell_type": "code",
     "collapsed": false,
     "input": [
      "\n",
      "df.loc[(df.Geschlecht == 'Weiblich') & (df.AnzahlStechmuecken < 100), 'AnzahlStechmuecken'].plot.hist()\n",
      "df.loc[(df.Geschlecht == 'M\u00e4nnlich') & (df.AnzahlStechmuecken < 100), 'AnzahlStechmuecken'].plot.hist()"
     ],
     "language": "python",
     "metadata": {},
     "outputs": []
    },
    {
     "cell_type": "code",
     "collapsed": false,
     "input": [
      "df.loc[(df.Geschlecht == 'Weiblich') & (df.AnzahlStechmuecken < 100), 'AnzahlStechmuecken'].plot.hist(alpha=0.5)\n",
      "df.loc[(df.Geschlecht == 'M\u00e4nnlich') & (df.AnzahlStechmuecken < 100), 'AnzahlStechmuecken'].plot.hist(alpha=0.5)"
     ],
     "language": "python",
     "metadata": {},
     "outputs": []
    },
    {
     "cell_type": "code",
     "collapsed": false,
     "input": [
      "df.loc[df.Geschlecht == 'M\u00e4nnlich', 'EigeneAttraktivitaet'].plot.hist(bins=range(1, 11),alpha=0.5)"
     ],
     "language": "python",
     "metadata": {},
     "outputs": []
    },
    {
     "cell_type": "code",
     "collapsed": false,
     "input": [
      "# df.loc['EigeneAttraktivitaet'].plot.hist()\n",
      "df.loc[df.Geschlecht == 'Weiblich', 'EigeneAttraktivitaet'].plot.hist(bins=range(1, 11), alpha=0.5)"
     ],
     "language": "python",
     "metadata": {},
     "outputs": []
    },
    {
     "cell_type": "code",
     "collapsed": false,
     "input": [
      "categorial = ['Geschlecht',\n",
      "              'Studienfach',\n",
      "              'AG',\n",
      "              'ZungeRollen',\n",
      "              'BeziehungsstatusVorher',\n",
      "              'BeziehungsstatusNachher',\n",
      "              'Tinder',\n",
      "              'GrundSpaetInsBett',\n",
      "              'BesterAbendvortrag',\n",
      "              'Transportmittel',\n",
      "              'Gendern',\n",
      "              'PlutoPlanet',\n",
      "              'ArtikelButter',\n",
      "              'ArtikelNutella',\n",
      "              'NutellaMitButter',\n",
      "              'SchoensterDialekt',\n",
      "              'PfluegenOderNicht',\n",
      "              'BestaussehenderMann',\n",
      "              'BestaussehendeFrau',\n",
      "              'WegZumStipendium',\n",
      "              'Fu\\xc3\\x9fnoten',\n",
      "              'BeziehungMitStifti',\n",
      "              'InEinemWort']\n",
      "numeric_cols = ['Alter',\n",
      " 'AnzahlSommerakademien',\n",
      " 'LaengeAnfahrt',\n",
      " 'AnzahlSprachen',\n",
      " 'AnzahlGeschwister',\n",
      " 'AnzahlVornamen',\n",
      " 'Groesse',\n",
      " 'AnzahlStaatsbuergerschaften',\n",
      " 'LaengeFreundschaft',\n",
      " 'AnzahlPokemon',\n",
      " 'MengeKaffee',\n",
      " 'AnzahlSexualpartnerAllgemein',\n",
      " 'AnzahlSexualpartnerGreifswald',\n",
      " 'StundenSport',\n",
      " 'AnzahlBuecher',\n",
      " 'AnzahlFacebookfreunde',\n",
      " 'DurchschnittAbi',\n",
      " 'DurchschnittAktuell',\n",
      " 'QuersummePIN',\n",
      " 'MengeBargeld',\n",
      " 'AnzahlZimmergenossen',\n",
      " 'MengeSchlaf',\n",
      " 'DauerVorbereitungZuhause',\n",
      " 'DauerVorbereitungGreifswald',\n",
      " 'GeldMensakarte',\n",
      " 'AnzahlAbendvortraegeGeschwaenzt',\n",
      " 'AnzahlFremdeBetten',\n",
      " 'ZeitAufWasser',\n",
      " 'AnzahlStechmuecken',\n",
      " 'EigeneAttraktivitaet',]\n",
      "\n",
      "\n",
      "for val in numeric_cols:\n",
      "    print(\"{0:>32}: {1:>06.2f} (Range: {2:>4.2f} - {3:>4.2f})\\t Mean: {4:>5.2f}\".format(\n",
      "           val,\n",
      "           float(df[[val]].median()),\n",
      "           float(df[[val]].min()),\n",
      "           float(df[[val]].max()),\n",
      "           float(df[[val]].mean())))\n"
     ],
     "language": "python",
     "metadata": {},
     "outputs": []
    },
    {
     "cell_type": "code",
     "collapsed": false,
     "input": [
      "df.describe()"
     ],
     "language": "python",
     "metadata": {},
     "outputs": []
    },
    {
     "cell_type": "code",
     "collapsed": false,
     "input": [
      "print(\"Datenpunkte: %i\" % len(df))\n",
      "print(\"Durchschnittliches Alter: %0.2f\" % df[[2]].mean())"
     ],
     "language": "python",
     "metadata": {},
     "outputs": []
    },
    {
     "cell_type": "code",
     "collapsed": false,
     "input": [
      "df[[]]"
     ],
     "language": "python",
     "metadata": {},
     "outputs": []
    }
   ],
   "metadata": {}
  }
 ]
}