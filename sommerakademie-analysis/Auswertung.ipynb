{
 "metadata": {
  "name": "",
  "signature": "sha256:ca21d11d2cc396cf9d628ea3e0f114f37818370fa740cadb30a3859262aacf6e"
 },
 "nbformat": 3,
 "nbformat_minor": 0,
 "worksheets": [
  {
   "cells": [
    {
     "cell_type": "code",
     "collapsed": false,
     "input": [
      "%matplotlib inline\n",
      "import pandas as pd\n",
      "import seaborn as sns\n",
      "import numpy as np"
     ],
     "language": "python",
     "metadata": {},
     "outputs": []
    },
    {
     "cell_type": "code",
     "collapsed": false,
     "input": [
      "df = pd.read_csv('data.csv')"
     ],
     "language": "python",
     "metadata": {},
     "outputs": []
    },
    {
     "cell_type": "code",
     "collapsed": false,
     "input": [
      "list(df.columns.values)"
     ],
     "language": "python",
     "metadata": {},
     "outputs": []
    },
    {
     "cell_type": "code",
     "collapsed": false,
     "input": [
      "# Data cleaning\n",
      "df.loc[df.AnzahlSexualpartnerAllgemein > 10000, 'AnzahlSexualpartnerAllgemein'] = float('inf')\n",
      "df.loc[df.AnzahlSexualpartnerGreifswald > 10000, 'AnzahlSexualpartnerGreifswald'] = float('inf')\n",
      "df.loc[df.AnzahlStechmuecken > 10000, 'AnzahlStechmuecken'] = float('inf')\n",
      "df.loc[df.Groesse < 20, 'Groesse'] = None\n",
      "# sorted(df[['LaengeFreundschaft']].values)\n",
      "df.loc[df.LaengeFreundschaft > 100, ['Alter', 'LaengeFreundschaft']] = None"
     ],
     "language": "python",
     "metadata": {},
     "outputs": []
    },
    {
     "cell_type": "code",
     "collapsed": false,
     "input": [
      "grouped = df.groupby('Geschlecht')\n",
      "grouped['EigeneAttraktivitaet'].hist(alpha=0.4, position=0, bins=range(1, 11))"
     ],
     "language": "python",
     "metadata": {},
     "outputs": []
    },
    {
     "cell_type": "code",
     "collapsed": false,
     "input": [
      "\n",
      "df.loc[(df.Geschlecht == 'Weiblich') & (df.AnzahlStechmuecken < 100), 'AnzahlStechmuecken'].plot.hist()\n",
      "df.loc[(df.Geschlecht == 'M\u00e4nnlich') & (df.AnzahlStechmuecken < 100), 'AnzahlStechmuecken'].plot.hist()"
     ],
     "language": "python",
     "metadata": {},
     "outputs": []
    },
    {
     "cell_type": "code",
     "collapsed": false,
     "input": [
      "df.loc[(df.Geschlecht == 'Weiblich') & (df.AnzahlStechmuecken < 100), 'AnzahlStechmuecken'].plot.hist(alpha=0.5)\n",
      "df.loc[(df.Geschlecht == 'M\u00e4nnlich') & (df.AnzahlStechmuecken < 100), 'AnzahlStechmuecken'].plot.hist(alpha=0.5)"
     ],
     "language": "python",
     "metadata": {},
     "outputs": []
    },
    {
     "cell_type": "code",
     "collapsed": false,
     "input": [
      "df.loc[df.Geschlecht == 'M\u00e4nnlich', 'EigeneAttraktivitaet'].plot.hist(bins=range(1, 11),alpha=0.5)"
     ],
     "language": "python",
     "metadata": {},
     "outputs": []
    },
    {
     "cell_type": "code",
     "collapsed": false,
     "input": [
      "# df.loc['EigeneAttraktivitaet'].plot.hist()\n",
      "df.loc[df.Geschlecht == 'Weiblich', 'EigeneAttraktivitaet'].plot.hist(bins=range(1, 11), alpha=0.5)"
     ],
     "language": "python",
     "metadata": {},
     "outputs": []
    },
    {
     "cell_type": "code",
     "collapsed": false,
     "input": [
      "categorial = ['Geschlecht',\n",
      "              'Studienfach',\n",
      "              'AG',\n",
      "              'ZungeRollen',\n",
      "              'BeziehungsstatusVorher',\n",
      "              'BeziehungsstatusNachher',\n",
      "              'Tinder',\n",
      "              'GrundSpaetInsBett',\n",
      "              'BesterAbendvortrag',\n",
      "              'Transportmittel',\n",
      "              'Gendern',\n",
      "              'PlutoPlanet',\n",
      "              'ArtikelButter',\n",
      "              'ArtikelNutella',\n",
      "              'NutellaMitButter',\n",
      "              'SchoensterDialekt',\n",
      "              'PfluegenOderNicht',\n",
      "              'BestaussehenderMann',\n",
      "              'BestaussehendeFrau',\n",
      "              'WegZumStipendium',\n",
      "              'Fu\\xc3\\x9fnoten',\n",
      "              'BeziehungMitStifti',\n",
      "              'InEinemWort']\n",
      "numeric_cols = ['Alter',\n",
      " 'AnzahlSommerakademien',\n",
      " 'LaengeAnfahrt',\n",
      " 'AnzahlSprachen',\n",
      " 'AnzahlGeschwister',\n",
      " 'AnzahlVornamen',\n",
      " 'Groesse',\n",
      " 'AnzahlStaatsbuergerschaften',\n",
      " 'LaengeFreundschaft',\n",
      " 'AnzahlPokemon',\n",
      " 'MengeKaffee',\n",
      " 'AnzahlSexualpartnerAllgemein',\n",
      " 'AnzahlSexualpartnerGreifswald',\n",
      " 'StundenSport',\n",
      " 'AnzahlBuecher',\n",
      " 'AnzahlFacebookfreunde',\n",
      " 'DurchschnittAbi',\n",
      " 'DurchschnittAktuell',\n",
      " 'QuersummePIN',\n",
      " 'MengeBargeld',\n",
      " 'AnzahlZimmergenossen',\n",
      " 'MengeSchlaf',\n",
      " 'DauerVorbereitungZuhause',\n",
      " 'DauerVorbereitungGreifswald',\n",
      " 'GeldMensakarte',\n",
      " 'AnzahlAbendvortraegeGeschwaenzt',\n",
      " 'AnzahlFremdeBetten',\n",
      " 'ZeitAufWasser',\n",
      " 'AnzahlStechmuecken',\n",
      " 'EigeneAttraktivitaet',]\n",
      "\n",
      "print(\"Datenpunkte: %i\" % len(df))\n",
      "for val in numeric_cols:\n",
      "    if val in ['AnzahlSexualpartnerAllgemein', 'AnzahlSexualpartnerGreifswald', 'AnzahlStechmuecken']:\n",
      "        continue\n",
      "    print(\"{0:>32}: {1:>06.2f} (Range: {2:>4.2f} - {3:>4.2f})\\t Mean: {4:>5.2f}\".format(\n",
      "           val,\n",
      "           float(df[[val]].median()),\n",
      "           float(df[[val]].min()),\n",
      "           float(df[[val]].max()),\n",
      "           float(df[[val]].mean())))\n",
      "    print(\"{0:>32}, Group: abs min (AG {1: .0f}) abs max (AG {2: .0f}), mean min (AG {3: .0f}), mean max (AG {4: .0f})\".format(\n",
      "          val,\n",
      "          df.groupby('AG')[val].min().idxmin(),\n",
      "          df.groupby('AG')[val].max().idxmax(),\n",
      "          df.groupby('AG')[val].mean().idxmin(),\n",
      "          df.groupby('AG')[val].mean().idxmax()))\n",
      "    print(\"{0:>32}, Group: median min={1} (AG {2: .0f}), median max={3} (AG {4: .0f}), sum={5} (AG {6: .0f})\".format(\n",
      "          val,\n",
      "          df.groupby('AG')[val].median().min(),\n",
      "          df.groupby('AG')[val].median().idxmin(),\n",
      "          df.groupby('AG')[val].median().max(),\n",
      "          df.groupby('AG')[val].median().idxmax(),\n",
      "          df.groupby('AG')[val].sum().max(),\n",
      "          df.groupby('AG')[val].sum().idxmax()))\n",
      "    val_min = int(min(df[val]))\n",
      "    val_max = int(min(10000, max(df[val])))\n",
      "    # df[[val]].plot.hist(bins=np.linspace(minimum, maximum, 10), alpha=0.5, normed=True)\n",
      "    #df.loc[df.Geschlecht == 'Weiblich', val].plot.hist(bins=np.linspace(minimum, maximum, 10), alpha=0.5, normed=True)\n",
      "    # df.loc[df.Geschlecht == 'M\u00e4nnlich', val].plot.hist(bins=np.linspace(minimum, maximum, 10), alpha=0.5, normed=True)\n",
      "    \n",
      "df.groupby('AG')['ZungeRollen'].describe()"
     ],
     "language": "python",
     "metadata": {},
     "outputs": []
    },
    {
     "cell_type": "code",
     "collapsed": false,
     "input": [
      "df.groupby('AG')[\"DurchschnittAbi\"].mean()"
     ],
     "language": "python",
     "metadata": {},
     "outputs": []
    },
    {
     "cell_type": "code",
     "collapsed": false,
     "input": [
      "df.groupby('Geschlecht').describe()\n"
     ],
     "language": "python",
     "metadata": {},
     "outputs": []
    },
    {
     "cell_type": "code",
     "collapsed": false,
     "input": [
      "df[df.AG == 5]"
     ],
     "language": "python",
     "metadata": {},
     "outputs": []
    },
    {
     "cell_type": "code",
     "collapsed": false,
     "input": [
      "df[(df.Geschlecht == \"Weiblich\") & (df.PlutoPlanet == 'Ist das nicht der Hund von Goofy?')]"
     ],
     "language": "python",
     "metadata": {},
     "outputs": []
    },
    {
     "cell_type": "code",
     "collapsed": false,
     "input": [
      "df[(df.Geschlecht == \"Weiblich\")].groupby(\"PlutoPlanet\").describe()"
     ],
     "language": "python",
     "metadata": {},
     "outputs": []
    },
    {
     "cell_type": "code",
     "collapsed": false,
     "input": [
      "df.PlutoPlanet.values"
     ],
     "language": "python",
     "metadata": {},
     "outputs": []
    }
   ],
   "metadata": {}
  }
 ]
}